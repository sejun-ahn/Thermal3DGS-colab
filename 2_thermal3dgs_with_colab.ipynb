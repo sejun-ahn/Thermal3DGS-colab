{
  "cells": [
    {
      "cell_type": "code",
      "execution_count": null,
      "metadata": {
        "id": "9UytbvYzkhyi"
      },
      "outputs": [],
      "source": [
        "from google.colab import drive\n",
        "drive.mount('/content/drive')"
      ]
    },
    {
      "cell_type": "markdown",
      "metadata": {},
      "source": [
        "0. Clone the git repository and install the requirements"
      ]
    },
    {
      "cell_type": "code",
      "execution_count": null,
      "metadata": {
        "id": "DkDieccukrfX"
      },
      "outputs": [],
      "source": [
        "%cd /content\n",
        "\n",
        "!git clone --recursive https://github.com/sejun-ahn/Thermal3DGS\n",
        "\n",
        "%cd /content/Thermal3DGS\n",
        "!pip install -q /content/Thermal3DGS/submodules/depth-diff-gaussian-rasterization\n",
        "!pip install -q plyfile"
      ]
    },
    {
      "cell_type": "markdown",
      "metadata": {},
      "source": [
        "1. Set up the input directory"
      ]
    },
    {
      "cell_type": "code",
      "execution_count": null,
      "metadata": {},
      "outputs": [],
      "source": [
        "import os\n",
        "\n",
        "input_directory = 'content/drive/MyDrive/video'\n",
        "current_path = os.getcwd()\n",
        "relative_input_directory = os.path.relpath(input_directory, current_path)"
      ]
    },
    {
      "cell_type": "markdown",
      "metadata": {},
      "source": [
        "2. Train the model"
      ]
    },
    {
      "cell_type": "code",
      "execution_count": null,
      "metadata": {
        "id": "bwueYmFclGb4"
      },
      "outputs": [],
      "source": [
        "!python train.py -s {relative_input_directory}"
      ]
    }
  ],
  "metadata": {
    "accelerator": "GPU",
    "colab": {
      "gpuType": "T4",
      "provenance": []
    },
    "kernelspec": {
      "display_name": "Python 3",
      "name": "python3"
    },
    "language_info": {
      "name": "python"
    }
  },
  "nbformat": 4,
  "nbformat_minor": 0
}
