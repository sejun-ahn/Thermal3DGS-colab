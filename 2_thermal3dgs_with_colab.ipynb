{
  "nbformat": 4,
  "nbformat_minor": 0,
  "metadata": {
    "colab": {
      "provenance": [],
      "gpuType": "T4"
    },
    "kernelspec": {
      "name": "python3",
      "display_name": "Python 3"
    },
    "language_info": {
      "name": "python"
    },
    "accelerator": "GPU"
  },
  "cells": [
    {
      "cell_type": "code",
      "execution_count": null,
      "metadata": {
        "id": "9UytbvYzkhyi"
      },
      "outputs": [],
      "source": [
        "from google.colab import drive\n",
        "drive.mount('/content/drive')"
      ]
    },
    {
      "cell_type": "code",
      "source": [
        "%cd /content\n",
        "\n",
        "!git clone --recursive https://github.com/sejun-ahn/Thermal3DGS\n",
        "\n",
        "%cd /content/Thermal3DGS\n",
        "!pip install -q /content/Thermal3DGS/submodules/depth-diff-gaussian-rasterization\n",
        "!pip install -q plyfile"
      ],
      "metadata": {
        "id": "DkDieccukrfX"
      },
      "execution_count": null,
      "outputs": []
    },
    {
      "cell_type": "code",
      "source": [
        "!python train.py -s ../drive/MyDrive/[Coursework]/RKV/Thermal_GIST_S2"
      ],
      "metadata": {
        "id": "bwueYmFclGb4"
      },
      "execution_count": null,
      "outputs": []
    }
  ]
}