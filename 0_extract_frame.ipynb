{
  "nbformat": 4,
  "nbformat_minor": 0,
  "metadata": {
    "colab": {
      "provenance": []
    },
    "kernelspec": {
      "name": "python3",
      "display_name": "Python 3"
    },
    "language_info": {
      "name": "python"
    }
  },
  "cells": [
    {
      "cell_type": "code",
      "source": [
        "from google.colab import drive\n",
        "drive.mount('/content/drive/')"
      ],
      "metadata": {
        "id": "lre5tXogmElq"
      },
      "execution_count": null,
      "outputs": []
    },
    {
      "cell_type": "code",
      "execution_count": null,
      "metadata": {
        "id": "61wbPh1jfl9G"
      },
      "outputs": [],
      "source": [
        "# check the directory of the thermal video file.\n",
        "%ls /content/drive/MyDrive/[Coursework]/RKV"
      ]
    },
    {
      "cell_type": "code",
      "source": [
        "# extract the frames from the video file using ffmpeg\n",
        "%mkdir -p /content/drive/MyDrive/[Coursework]/RKV/Thermal_GIST_S2/input"
      ],
      "metadata": {
        "id": "GflDsYG-gMLx"
      },
      "execution_count": null,
      "outputs": []
    },
    {
      "cell_type": "code",
      "source": [
        "# extract all frames of the video file\n",
        "#!ffmpeg -i /content/drive/MyDrive/[Coursework]/RKV/Thermal_GIST_S2.MP4 /content/drive/MyDrive/[Coursework]/RKV/Thermal_GIST_S2/input/%05d.png\n",
        "\n",
        "# or extract a frame per second by adding -vf fps=1 argument\n",
        "!ffmpeg -i /content/drive/MyDrive/[Coursework]/RKV/Thermal_GIST_S2.MP4 -vf fps=1 /content/drive/MyDrive/[Coursework]/RKV/Thermal_GIST_S2/input/%05d.png"
      ],
      "metadata": {
        "id": "4nkC0KCYg-zX"
      },
      "execution_count": null,
      "outputs": []
    },
    {
      "cell_type": "code",
      "source": [
        "# you can see the additional options of ffmpeg at here https://ffmpeg.org/ffmpeg.html#Options\n",
        "# !ffmpeg -help"
      ],
      "metadata": {
        "id": "S2pH5NH7hnPa"
      },
      "execution_count": null,
      "outputs": []
    }
  ]
}