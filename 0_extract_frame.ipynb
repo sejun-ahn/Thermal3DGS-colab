{
  "cells": [
    {
      "cell_type": "code",
      "execution_count": null,
      "metadata": {
        "id": "lre5tXogmElq"
      },
      "outputs": [],
      "source": [
        "from google.colab import drive\n",
        "drive.mount('/content/drive/')"
      ]
    },
    {
      "cell_type": "markdown",
      "metadata": {},
      "source": [
        "0. Define input video location"
      ]
    },
    {
      "cell_type": "code",
      "execution_count": null,
      "metadata": {},
      "outputs": [],
      "source": [
        "video_directory = '/content/drive/MyDrive'\n",
        "video_filename = 'video.mp4'"
      ]
    },
    {
      "cell_type": "markdown",
      "metadata": {},
      "source": [
        "1. Set up and create output directory"
      ]
    },
    {
      "cell_type": "code",
      "execution_count": null,
      "metadata": {},
      "outputs": [],
      "source": [
        "import os\n",
        "\n",
        "video_path = os.path.join(video_directory, video_filename)\n",
        "video_basename = os.path.splitext(video_filename)[0]\n",
        "output_directory = os.path.join(video_directory, video_basename, 'input')\n",
        "os.makedirs(os.path.join(output_directory, exist_ok=True))"
      ]
    },
    {
      "cell_type": "markdown",
      "metadata": {},
      "source": [
        "2. Extract video frames using ffmpeg"
      ]
    },
    {
      "cell_type": "code",
      "execution_count": null,
      "metadata": {
        "id": "4nkC0KCYg-zX"
      },
      "outputs": [],
      "source": [
        "# Option 1: extract all frames\n",
        "#!ffmpeg -i {video_path} {output_directory}/%05d.png\n",
        "\n",
        "# Option 2: extract one frame per second\n",
        "!ffmpeg -i {video_path} -vf fps=1 {output_directory}/%05d.png"
      ]
    },
    {
      "cell_type": "markdown",
      "metadata": {},
      "source": [
        "3. Additional information and options : [https://ffmpeg.org/ffmpeg.html#Options]"
      ]
    },
    {
      "cell_type": "code",
      "execution_count": null,
      "metadata": {
        "id": "S2pH5NH7hnPa"
      },
      "outputs": [],
      "source": [
        "# Check ffmped help\n",
        "!ffmpeg -help"
      ]
    }
  ],
  "metadata": {
    "colab": {
      "provenance": []
    },
    "kernelspec": {
      "display_name": "Python 3",
      "name": "python3"
    },
    "language_info": {
      "name": "python"
    }
  },
  "nbformat": 4,
  "nbformat_minor": 0
}
