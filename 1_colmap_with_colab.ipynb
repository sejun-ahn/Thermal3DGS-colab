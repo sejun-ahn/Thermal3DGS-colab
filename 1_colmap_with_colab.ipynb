{
  "cells": [
    {
      "cell_type": "code",
      "execution_count": null,
      "metadata": {
        "id": "7-wq2CuFmHiq"
      },
      "outputs": [],
      "source": [
        "from google.colab import drive\n",
        "drive.mount('/content/drive/')"
      ]
    },
    {
      "cell_type": "markdown",
      "metadata": {},
      "source": [
        "0. Set up the input directory"
      ]
    },
    {
      "cell_type": "code",
      "execution_count": null,
      "metadata": {},
      "outputs": [],
      "source": [
        "# input_directory is the path to the folder named with the video file name\n",
        "# For '0_extract_frame.ipynb', it is os.path.join(video_path, video_basename)\n",
        "input_directory = 'content/drive/MyDrive/video'"
      ]
    },
    {
      "cell_type": "markdown",
      "metadata": {},
      "source": [
        "1. Install packages"
      ]
    },
    {
      "cell_type": "code",
      "execution_count": null,
      "metadata": {
        "id": "pqlt6nobjhYQ"
      },
      "outputs": [],
      "source": [
        "!apt-get install \\\n",
        "  ninja-build \\\n",
        "  libeigen3-dev \\\n",
        "  libflann-dev \\\n",
        "  libfreeimage-dev \\\n",
        "  libmetis-dev \\\n",
        "  libgoogle-glog-dev \\\n",
        "  libgtest-dev \\\n",
        "  libglew-dev \\\n",
        "  qtbase5-dev \\\n",
        "  libqt5opengl5-dev \\\n",
        "  libcgal-dev \\\n",
        "  libceres-dev"
      ]
    },
    {
      "cell_type": "markdown",
      "metadata": {},
      "source": [
        "2. Build COLMAP \\\n",
        "It takes about 30 minutes, so I recommend you to install on your local system. "
      ]
    },
    {
      "cell_type": "code",
      "execution_count": null,
      "metadata": {
        "id": "WoLzy_emjxK4"
      },
      "outputs": [],
      "source": [
        "!git clone https://github.com/colmap/colmap.git\n",
        "%cd colmap\n",
        "!git checkout dev\n",
        "%mkdir build\n",
        "%cd build\n",
        "!cmake ..\n",
        "!make\n",
        "!sudo make install"
      ]
    },
    {
      "cell_type": "markdown",
      "metadata": {},
      "source": [
        "3. Clone the git repository"
      ]
    },
    {
      "cell_type": "code",
      "execution_count": null,
      "metadata": {
        "id": "WN1GWs9ojy4d"
      },
      "outputs": [],
      "source": [
        "%cd /content\n",
        "!git clone --recursive https://github.com/sejun-ahn/Thermal3DGS"
      ]
    },
    {
      "cell_type": "markdown",
      "metadata": {},
      "source": [
        "4. Run COLMAP"
      ]
    },
    {
      "cell_type": "code",
      "execution_count": null,
      "metadata": {
        "id": "vkhrery5kDp0"
      },
      "outputs": [],
      "source": [
        "%cd /content/Thermal3DGS\n",
        "\n",
        "import os\n",
        "# Compute the relative path to the input_directory\n",
        "current_path = os.getcwd()\n",
        "relative_input_directory = os.path.relpath(input_directory, current_path)\n",
        "\n",
        "!python convert.py -s {relative_input_directory}"
      ]
    }
  ],
  "metadata": {
    "colab": {
      "provenance": []
    },
    "kernelspec": {
      "display_name": "Python 3",
      "name": "python3"
    },
    "language_info": {
      "name": "python"
    }
  },
  "nbformat": 4,
  "nbformat_minor": 0
}
