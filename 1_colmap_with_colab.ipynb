{
  "nbformat": 4,
  "nbformat_minor": 0,
  "metadata": {
    "colab": {
      "provenance": []
    },
    "kernelspec": {
      "name": "python3",
      "display_name": "Python 3"
    },
    "language_info": {
      "name": "python"
    }
  },
  "cells": [
    {
      "cell_type": "code",
      "source": [
        "from google.colab import drive\n",
        "drive.mount('/content/drive/')"
      ],
      "metadata": {
        "id": "7-wq2CuFmHiq"
      },
      "execution_count": null,
      "outputs": []
    },
    {
      "cell_type": "code",
      "execution_count": null,
      "metadata": {
        "id": "pqlt6nobjhYQ"
      },
      "outputs": [],
      "source": [
        "!apt-get install \\\n",
        "  ninja-build \\\n",
        "  libeigen3-dev \\\n",
        "  libflann-dev \\\n",
        "  libfreeimage-dev \\\n",
        "  libmetis-dev \\\n",
        "  libgoogle-glog-dev \\\n",
        "  libgtest-dev \\\n",
        "  libglew-dev \\\n",
        "  qtbase5-dev \\\n",
        "  libqt5opengl5-dev \\\n",
        "  libcgal-dev \\\n",
        "  libceres-dev"
      ]
    },
    {
      "cell_type": "code",
      "source": [
        "!git clone https://github.com/colmap/colmap.git\n",
        "%cd colmap\n",
        "!git checkout dev\n",
        "%mkdir build\n",
        "%cd build\n",
        "!cmake ..\n",
        "!make\n",
        "!sudo make install"
      ],
      "metadata": {
        "id": "WoLzy_emjxK4"
      },
      "execution_count": null,
      "outputs": []
    },
    {
      "cell_type": "code",
      "source": [
        "%cd /content\n",
        "!git clone --recursive https://github.com/sejun-ahn/Thermal3DGS"
      ],
      "metadata": {
        "id": "WN1GWs9ojy4d"
      },
      "execution_count": null,
      "outputs": []
    },
    {
      "cell_type": "code",
      "source": [
        "%cd /content/Thermal3DGS\n",
        "!python convert.py -s ../drive/MyDrive/[Coursework]/RKV/Thermal_GIST_S2"
      ],
      "metadata": {
        "id": "vkhrery5kDp0"
      },
      "execution_count": null,
      "outputs": []
    }
  ]
}